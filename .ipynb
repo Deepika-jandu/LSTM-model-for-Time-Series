{
 "cells": [
  {
   "cell_type": "markdown",
   "metadata": {},
   "source": [
    "In this Machine Learning project, I built a time series project. For this, I used RNN and LSTM."
   ]
  },
  {
   "cell_type": "code",
   "execution_count": null,
   "metadata": {},
   "outputs": [],
   "source": [
    "import numpy as np#importing the numpy library\n",
    "import tensorflow as tf#importing the tensorflowlibrary\n",
    "import pandas as pd#importing the pandas library\n",
    "import seaborn as sns #importing the seaborn library\n",
    "from sklearn.preprocessing import MinMaxScaler#importing the min max scalar library\n",
    "import matplotlib.pyplot as plt#importing the matplot lib library"
   ]
  },
  {
   "cell_type": "code",
   "execution_count": null,
   "metadata": {},
   "outputs": [],
   "source": [
    "dataframe = pd.read_csv('dataset.csv',index_col='Month')#loading the dataset\n",
    "df.index = pd.to_datetime(df.index)#using datetime to read dates from dataset\n",
    "df.head(2) #printing the dataset"
   ]
  },
  {
   "cell_type": "code",
   "execution_count": null,
   "metadata": {},
   "outputs": [],
   "source": [
    "scalar = MinMaxScaler()#defining a min max scalar\n",
    "Train = df.head(156)#creating the training dataset\n",
    "Test = df.tail(12)#creating the testing dataset\n",
    "Train_Scalar = scalar.fit_transform(Train)#passing the training data to scalar\n",
    "Test_Scalar = scalar.fit_transform(Test)#passing the testing data to scalar\n",
    " \n",
    "def new_set(data_train, batch_size, steps):#defining a function to calculate a new set\n",
    "    \n",
    "    starting_point= np.random.randint(0,len(data_train)-steps) #taking a random starting point in the dataset\n",
    " \n",
    "    y_batch = np.array(data_train[starting_point:starting_point+steps+1]).reshape(1,steps+1)#here we are Creating the y \n",
    "    \n",
    "    x_set= y_set[:, :-1].reshape(-1, steps, 1) #calculating the x set\n",
    "    y_set = y_set[:, 1:].reshape(-1, steps, 1) #calculating the y set\n",
    "    return x_set , y_set #returning the x set and y set"
   ]
  },
  {
   "cell_type": "code",
   "execution_count": null,
   "metadata": {},
   "outputs": [],
   "source": [
    "x_set = tf.placeholder(tf.float32, [None, 12, 1])#taking the input of value x using tensorflow \n",
    "y_set = tf.placeholder(tf.float32, [None, 12, 1])#taking the input of value x using tensorflow \n",
    " \n",
    " \n",
    "rnn_cell= tf.contrib.rnn.OutputProjectionWrapper(\n",
    "    tf.contrib.rnn.GRUCell(num_units=100, activation=tf.nn.relu),\n",
    "    output_size=1)#running a rnn gru cell using tensorflow with activation function as Relu\n",
    " \n",
    "output, state = tf.nn.dynamic_rnn(rnn_cell, X, dtype=tf.float32)#running the rnn model using tensorflow\n",
    " \n",
    "loss = tf.reduce_mean(tf.square(output - y)) # calculating the loss by using mean squared error\n",
    "optimizer = tf.train.AdamOptimizer(learning_rate=learning_rate)#Adam optimizer with a learning rate of \n",
    "train_data = optimizer.minimize(loss)#minimizing data\n",
    "init = tf.global_variables_initializer()#initializing a global variable\n",
    " \n",
    "saver = tf.train.Saver()#saving the training model\n",
    " \n",
    " \n",
    "with tf.Session() as sess:#starting a tensorflow session\n",
    "    sess.run(init)#starting the session\n",
    "    \n",
    "    for iteration in range(10):#running the loop\n",
    "        \n",
    "        x_set, y_set = new_set(train_sca, 120,num_time_steps)\n",
    "        sess.run(training_data, feed_dict={X: x_set, y: y_set})#passing the training data to the session\n",
    "        \n",
    "        if iteration % 100 == 0:\n",
    "            \n",
    "            mse = loss.eval(feed_dict={X: x_set, y: y_set})#calculating the mean squared error\n",
    " \n",
    "with tf.Session() as sess:#starting a tensorflow session\n",
    "    train_set = list(Train_Scalar[-12:])#generating the training set.\n",
    " \n",
    "    for iteration in range(12):#running a loop of 12 iteration\n",
    "        x_set= np.array(train_set[-num_time_steps:]).reshape(1, num_time_steps, 1)#getting the x set\n",
    "        y= sess.run(final, feed_dict={X: x_set})\n",
    "        train_set.append(y[0, -1, 0])#getting the predicted value\n",
    "results = scalar.inverse_transform(np.array(train_set[12:]).reshape(12,1))#getting the result\n",
    " \n",
    "Test[\"Predicted\"]  = results#getting the result\n",
    "Test.plot()#plotting the result"
   ]
  }
 ],
 "metadata": {
  "language_info": {
   "name": "python"
  }
 },
 "nbformat": 4,
 "nbformat_minor": 2
}
